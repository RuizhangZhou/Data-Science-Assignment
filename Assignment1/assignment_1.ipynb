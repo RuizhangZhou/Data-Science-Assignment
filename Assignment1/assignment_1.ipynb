{
 "cells": [
  {
   "cell_type": "markdown",
   "id": "3c531158",
   "metadata": {},
   "source": [
    "# IDS Assignment Part 1 - <font color=\"red\"><h7>Deadline: 18/12/2022 23:59</h7></font>\n",
    "This is the first part of the assignments in IDS 2022/2023. \n",
    "Please use this Jupyter notebook to work on the questions posed in the assignment. When you are done, upload the notebook in Moodle at the designated（指定的） activity. This is the _only_ file that is required. A separate report is _not_ needed and will not be considered for grading. \n",
    "\n",
    "Give your commented Python code and answers in the corresponding provided cells. Make sure to answer all questions in a clear and explicit manner and discuss your outputs. _Please do not change the general structure of this notebook_. You can, however, add additional markdown or code cells if necessary. <b>Please DO NOT CLEAR THE OUTPUT of the notebook you are submitting! </b>\n",
    "\n",
    "<font color=\"red\"> *Please make sure to include the names and matriculation numbers of all group members in the slot provided below.* </font> If a name or a student id is missing, the student will not receive any points.\n",
    "\n",
    "Hint 1: While working on the assignment, you will get a better understanding of the dataset. Feel free to generate additional results and visualizations to support your answers. For example, this might be useful regarding data modification, data simplification, or output interpretation. <font color=\"red\">Ensure that all your claims are supported.</font>\n",
    "\n",
    "Hint 2: <font color=\"red\">Plan your time wisely. </font> A few parts of this assignment may take some time to run. It might be necessary to consider time management when you plan your group work. Also, do not attempt to upload your assignment at the last minute before the deadline. This often does not work, and you will miss the deadline. Late submissions will not be considered.\n",
    "\n",
    "Hint 3: RWTHmoodle allows multiple submissions, with every new submission overwriting the previous one. <b>Partial submissions are therefore possible and encouraged. </b> This might be helpful in case of technical issues with RWTHMoodle, which may occur close to the deadline."
   ]
  },
  {
   "cell_type": "markdown",
   "id": "9e826e43",
   "metadata": {},
   "source": [
    "<font color=\"red\"><b>Student Names and IDs:\n",
    "    \n",
    "    1. Ruizhang Zhou 405527\n",
    "    \n",
    "    2. \n",
    "    \n",
    "    3."
   ]
  },
  {
   "cell_type": "markdown",
   "id": "171c05f0",
   "metadata": {},
   "source": [
    "For those using Jupyter Notebook in your local environments, please install the following library in your environment:\n",
    "```pip install umap-learn==0.5.3```"
   ]
  },
  {
   "cell_type": "code",
   "execution_count": 59,
   "id": "ab570761-1a8a-4c62-8de2-534f88604bb8",
   "metadata": {
    "colab": {
     "base_uri": "https://localhost:8080/"
    },
    "id": "ab570761-1a8a-4c62-8de2-534f88604bb8",
    "outputId": "a8278aa6-aa87-4cea-c7f7-10ab381b364f"
   },
   "outputs": [],
   "source": [
    "#your imports (only use libraries provided in the environment)\n",
    "import pandas as pd\n",
    "import seaborn as sns \n",
    "import matplotlib.pyplot as plt"
   ]
  },
  {
   "cell_type": "markdown",
   "id": "le9qm43wNPGY",
   "metadata": {
    "id": "le9qm43wNPGY"
   },
   "source": [
    "# Pricing your AirBnB"
   ]
  },
  {
   "cell_type": "markdown",
   "id": "8dfa8631-4eba-4472-b981-510d243e1b2b",
   "metadata": {
    "id": "8dfa8631-4eba-4472-b981-510d243e1b2b"
   },
   "source": [
    "You finally made it! Working as a data scientist at an established process mining company in New York, you earned so much money that you can buy a flat for yourself. You decide to buy a 2-room apartment in Manhattan. Congratulations!\n",
    "\n",
    "Currently, you are still living in your rental apartment and are tied to a long-running rental contract. You can only use the apartment in 5 years from now. Therefore, you want to use the apartment as an AirBnB in the meantime, generating some consistent income. \n",
    "\n",
    "\n",
    "You have no clue how you should price your AirBnB per night (you are living in New York, so you never needed to book an AirBnB). You decide to leverage(杠杆) your unique skill set and perform a data-driven, informed decision. You collect all the data you can get your hands on by traversing all New York apartments. The retrieved data set **AirBnB_original.csv** is your starting point for investigation."
   ]
  },
  {
   "cell_type": "markdown",
   "id": "7e21b607-828f-47b4-a57a-18b6ccab6322",
   "metadata": {
    "id": "7e21b607-828f-47b4-a57a-18b6ccab6322"
   },
   "source": [
    "## Question 1: Exploring the Data Set"
   ]
  },
  {
   "cell_type": "markdown",
   "id": "3a79e889",
   "metadata": {
    "id": "3a79e889"
   },
   "source": [
    "As with every data set, you first want to know what you are dealing with. You perform some exploratory(探索性的) data analysis and clean the data along the way."
   ]
  },
  {
   "cell_type": "markdown",
   "id": "8L8J85EfPRoZ",
   "metadata": {
    "id": "8L8J85EfPRoZ"
   },
   "source": [
    "Show a few data points contained in the data set. Include all attributes."
   ]
  },
  {
   "cell_type": "code",
   "execution_count": 55,
   "id": "ly3THPi7PdLJ",
   "metadata": {
    "id": "ly3THPi7PdLJ",
    "scrolled": true
   },
   "outputs": [
    {
     "data": {
      "text/html": [
       "<div>\n",
       "<style scoped>\n",
       "    .dataframe tbody tr th:only-of-type {\n",
       "        vertical-align: middle;\n",
       "    }\n",
       "\n",
       "    .dataframe tbody tr th {\n",
       "        vertical-align: top;\n",
       "    }\n",
       "\n",
       "    .dataframe thead th {\n",
       "        text-align: right;\n",
       "    }\n",
       "</style>\n",
       "<table border=\"1\" class=\"dataframe\">\n",
       "  <thead>\n",
       "    <tr style=\"text-align: right;\">\n",
       "      <th></th>\n",
       "      <th>id</th>\n",
       "      <th>host id</th>\n",
       "      <th>neighborhood group</th>\n",
       "      <th>neighborhood</th>\n",
       "      <th>lat</th>\n",
       "      <th>long</th>\n",
       "      <th>country</th>\n",
       "      <th>country code</th>\n",
       "      <th>instant bookable</th>\n",
       "      <th>cancellation policy</th>\n",
       "      <th>room type</th>\n",
       "      <th>construction year</th>\n",
       "      <th>price</th>\n",
       "      <th>service fee</th>\n",
       "      <th>minimum nights</th>\n",
       "      <th>number of reviews</th>\n",
       "      <th>review rate number</th>\n",
       "      <th>calculated host listings count</th>\n",
       "      <th>number rooms</th>\n",
       "    </tr>\n",
       "  </thead>\n",
       "  <tbody>\n",
       "    <tr>\n",
       "      <th>0</th>\n",
       "      <td>1001254</td>\n",
       "      <td>80014485718</td>\n",
       "      <td>Brooklyn</td>\n",
       "      <td>Kensington</td>\n",
       "      <td>40.64749</td>\n",
       "      <td>-73.97237</td>\n",
       "      <td>United States</td>\n",
       "      <td>US</td>\n",
       "      <td>0</td>\n",
       "      <td>strict</td>\n",
       "      <td>Private room</td>\n",
       "      <td>2020.0</td>\n",
       "      <td>966</td>\n",
       "      <td>193.0</td>\n",
       "      <td>7.0</td>\n",
       "      <td>9.0</td>\n",
       "      <td>4.0</td>\n",
       "      <td>6.0</td>\n",
       "      <td>1</td>\n",
       "    </tr>\n",
       "    <tr>\n",
       "      <th>1</th>\n",
       "      <td>1002102</td>\n",
       "      <td>52335172823</td>\n",
       "      <td>Manhattan</td>\n",
       "      <td>Midtown</td>\n",
       "      <td>40.75362</td>\n",
       "      <td>-73.98377</td>\n",
       "      <td>United States</td>\n",
       "      <td>US</td>\n",
       "      <td>0</td>\n",
       "      <td>moderate</td>\n",
       "      <td>Entire home/apt</td>\n",
       "      <td>2007.0</td>\n",
       "      <td>142</td>\n",
       "      <td>28.0</td>\n",
       "      <td>7.0</td>\n",
       "      <td>45.0</td>\n",
       "      <td>4.0</td>\n",
       "      <td>2.0</td>\n",
       "      <td>2</td>\n",
       "    </tr>\n",
       "    <tr>\n",
       "      <th>2</th>\n",
       "      <td>1002403</td>\n",
       "      <td>78829239556</td>\n",
       "      <td>Manhattan</td>\n",
       "      <td>Harlem</td>\n",
       "      <td>40.80902</td>\n",
       "      <td>-73.94190</td>\n",
       "      <td>United States</td>\n",
       "      <td>US</td>\n",
       "      <td>0</td>\n",
       "      <td>flexible</td>\n",
       "      <td>Private room</td>\n",
       "      <td>2005.0</td>\n",
       "      <td>620</td>\n",
       "      <td>124.0</td>\n",
       "      <td>3.0</td>\n",
       "      <td>0.0</td>\n",
       "      <td>5.0</td>\n",
       "      <td>1.0</td>\n",
       "      <td>1</td>\n",
       "    </tr>\n",
       "    <tr>\n",
       "      <th>3</th>\n",
       "      <td>1002755</td>\n",
       "      <td>85098326012</td>\n",
       "      <td>Brooklyn</td>\n",
       "      <td>Clinton Hill</td>\n",
       "      <td>40.68514</td>\n",
       "      <td>-73.95976</td>\n",
       "      <td>United States</td>\n",
       "      <td>US</td>\n",
       "      <td>0</td>\n",
       "      <td>moderate</td>\n",
       "      <td>Entire home/apt</td>\n",
       "      <td>2005.0</td>\n",
       "      <td>368</td>\n",
       "      <td>74.0</td>\n",
       "      <td>7.0</td>\n",
       "      <td>270.0</td>\n",
       "      <td>4.0</td>\n",
       "      <td>1.0</td>\n",
       "      <td>2</td>\n",
       "    </tr>\n",
       "    <tr>\n",
       "      <th>4</th>\n",
       "      <td>1003689</td>\n",
       "      <td>92037596077</td>\n",
       "      <td>Manhattan</td>\n",
       "      <td>East Harlem</td>\n",
       "      <td>40.79851</td>\n",
       "      <td>-73.94399</td>\n",
       "      <td>United States</td>\n",
       "      <td>US</td>\n",
       "      <td>0</td>\n",
       "      <td>moderate</td>\n",
       "      <td>Entire home/apt</td>\n",
       "      <td>2009.0</td>\n",
       "      <td>204</td>\n",
       "      <td>41.0</td>\n",
       "      <td>7.0</td>\n",
       "      <td>9.0</td>\n",
       "      <td>3.0</td>\n",
       "      <td>1.0</td>\n",
       "      <td>1</td>\n",
       "    </tr>\n",
       "  </tbody>\n",
       "</table>\n",
       "</div>"
      ],
      "text/plain": [
       "        id      host id neighborhood group  neighborhood       lat      long  \\\n",
       "0  1001254  80014485718           Brooklyn    Kensington  40.64749 -73.97237   \n",
       "1  1002102  52335172823          Manhattan       Midtown  40.75362 -73.98377   \n",
       "2  1002403  78829239556          Manhattan        Harlem  40.80902 -73.94190   \n",
       "3  1002755  85098326012           Brooklyn  Clinton Hill  40.68514 -73.95976   \n",
       "4  1003689  92037596077          Manhattan   East Harlem  40.79851 -73.94399   \n",
       "\n",
       "         country country code  instant bookable cancellation policy  \\\n",
       "0  United States           US                 0              strict   \n",
       "1  United States           US                 0            moderate   \n",
       "2  United States           US                 0            flexible   \n",
       "3  United States           US                 0            moderate   \n",
       "4  United States           US                 0            moderate   \n",
       "\n",
       "         room type  construction year  price  service fee  minimum nights  \\\n",
       "0     Private room             2020.0    966        193.0             7.0   \n",
       "1  Entire home/apt             2007.0    142         28.0             7.0   \n",
       "2     Private room             2005.0    620        124.0             3.0   \n",
       "3  Entire home/apt             2005.0    368         74.0             7.0   \n",
       "4  Entire home/apt             2009.0    204         41.0             7.0   \n",
       "\n",
       "   number of reviews  review rate number  calculated host listings count  \\\n",
       "0                9.0                 4.0                             6.0   \n",
       "1               45.0                 4.0                             2.0   \n",
       "2                0.0                 5.0                             1.0   \n",
       "3              270.0                 4.0                             1.0   \n",
       "4                9.0                 3.0                             1.0   \n",
       "\n",
       "   number rooms  \n",
       "0             1  \n",
       "1             2  \n",
       "2             1  \n",
       "3             2  \n",
       "4             1  "
      ]
     },
     "execution_count": 55,
     "metadata": {},
     "output_type": "execute_result"
    }
   ],
   "source": [
    "# Your answer goes here\n",
    "dataf = pd.read_csv('AirBnB_original.csv', sep=',')\n",
    "#print(dataf[:5])\n",
    "dataf.head()"
   ]
  },
  {
   "cell_type": "markdown",
   "id": "9_9aEzu5PI1h",
   "metadata": {
    "id": "9_9aEzu5PI1h"
   },
   "source": [
    "### Basic Cleaning"
   ]
  },
  {
   "cell_type": "markdown",
   "id": "38360b13",
   "metadata": {
    "id": "38360b13"
   },
   "source": [
    "First, you have to remove NaN entries across the data set such that we only keep rows without any NaN value. How many rows did you remove?"
   ]
  },
  {
   "cell_type": "code",
   "execution_count": 56,
   "id": "d8b96e7f",
   "metadata": {
    "id": "ly3THPi7PdLJ"
   },
   "outputs": [
    {
     "name": "stdout",
     "output_type": "stream",
     "text": [
      "removed NaN rows: 1477\n"
     ]
    }
   ],
   "source": [
    "# Your answer goes here\n",
    "pre=len(dataf)\n",
    "dataf=dataf.dropna()\n",
    "after=len(dataf)\n",
    "print('removed NaN rows: %d' %(pre-after)) #removed 1477 row"
   ]
  },
  {
   "cell_type": "markdown",
   "id": "1dee5fbc",
   "metadata": {
    "id": "1dee5fbc"
   },
   "source": [
    "Since duplicated entries are misleading, we want to remove duplicate flats (identified by their id), such that we only keep them once and create a new dataset. How many duplicates are removed?"
   ]
  },
  {
   "cell_type": "code",
   "execution_count": 57,
   "id": "403479a7",
   "metadata": {
    "id": "ly3THPi7PdLJ"
   },
   "outputs": [
    {
     "name": "stdout",
     "output_type": "stream",
     "text": [
      "removed duplicated rows: 389\n"
     ]
    }
   ],
   "source": [
    "# Your answer goes here\n",
    "pre=len(dataf)\n",
    "dataf.drop_duplicates(subset=['id'], keep='first', inplace=True)\n",
    "after=len(dataf)\n",
    "print('removed duplicated rows: %d' %(pre-after))#removed 389 rows"
   ]
  },
  {
   "cell_type": "markdown",
   "id": "Yty_b-ftfTPc",
   "metadata": {
    "id": "Yty_b-ftfTPc"
   },
   "source": [
    "From now on, you work with the dataset **AirBnB_cleaned.csv**."
   ]
  },
  {
   "cell_type": "markdown",
   "id": "g-rLfHOoEGuz",
   "metadata": {
    "id": "g-rLfHOoEGuz"
   },
   "source": [
    "To get a feeling for nightly prices in New York, you take a look at the price attribute. Calculate the average price, the first and third quantiles, and the standard deviation."
   ]
  },
  {
   "cell_type": "code",
   "execution_count": 58,
   "id": "76bb6f5a",
   "metadata": {
    "id": "ly3THPi7PdLJ"
   },
   "outputs": [
    {
     "name": "stdout",
     "output_type": "stream",
     "text": [
      "mean: 625.463680\n",
      "first quantile:  340.000000\n",
      "third quantile:  913.000000\n",
      "standard deviation:  331.236241\n"
     ]
    }
   ],
   "source": [
    "# Your answer goes here\n",
    "dataf = pd.read_csv('AirBnB_cleaned.csv', sep=',')\n",
    "print('mean: %f' %dataf['price'].mean())\n",
    "print('first quantile:  %f' %dataf['price'].quantile(0.25))\n",
    "print('third quantile:  %f' %dataf['price'].quantile(0.75))\n",
    "print('standard deviation:  %f' %dataf['price'].std())"
   ]
  },
  {
   "cell_type": "markdown",
   "id": "eqDy9wQIElfF",
   "metadata": {
    "id": "eqDy9wQIElfF"
   },
   "source": [
    "You want to get a more visual picture of the price range. Use a histogram and boxplot to show the distribution of prices on the entire dataset."
   ]
  },
  {
   "cell_type": "code",
   "execution_count": 62,
   "id": "efc0714e",
   "metadata": {
    "id": "ly3THPi7PdLJ"
   },
   "outputs": [
    {
     "data": {
      "text/plain": [
       "Text(0.5, 1.0, 'Histogram of price')"
      ]
     },
     "execution_count": 62,
     "metadata": {},
     "output_type": "execute_result"
    },
    {
     "data": {
      "image/png": "[encoded data removed]",
      "text/plain": [
       "<Figure size 640x480 with 1 Axes>"
      ]
     },
     "metadata": {},
     "output_type": "display_data"
    }
   ],
   "source": [
    "# Your answer goes here\n",
    "sns.histplot(dataf[\"price\"], kde=False).set_title(\"Histogram of price\")\n"
   ]
  },
  {
   "cell_type": "markdown",
   "id": "3RkQxNBpQ7mC",
   "metadata": {
    "id": "3RkQxNBpQ7mC"
   },
   "source": [
    "### Exploring Price Relationships"
   ]
  },
  {
   "cell_type": "markdown",
   "id": "lKi9SkO1RF56",
   "metadata": {
    "id": "lKi9SkO1RF56"
   },
   "source": [
    "To inform our pricing decision, we want to investigate some differentiating factors for pricing apartments."
   ]
  },
  {
   "cell_type": "markdown",
   "id": "nClcY_FV_AKv",
   "metadata": {
    "id": "nClcY_FV_AKv"
   },
   "source": [
    "Since you have an overview of the prices and their distribution, you want to investigate which features of your dataset you might use to make your pricing decision. To do so, discuss each feature of the dataset and already rule out features that will definitely not impact the pricing decision. Below you can find a brief description of each feature: \n",
    "\n",
    "- id: Unique identifier for an apartment\n",
    "- host id: Identifier of the host offering a certain apartment\n",
    "- neighborhood group: Name of a neighborhood group in which an apartment is located\n",
    "- neighborhood: More fine-grained view on neighborhoods than neighborhood group\n",
    "- lat: Latitude coordinate of an apartment\n",
    "- long: Longitude coordinate of an apartment\n",
    "- country: The country in which an apartment is located\n",
    "- country code: Code of the country in which an apartment is located\n",
    "- instant bookable: Boolean values if an apartment is instantly bookable\n",
    "- cancellation policy: Policy for cancellation of booking\n",
    "- room type: Type of apartment/room\n",
    "- construction year: Year of construction of apartment\n",
    "- price: Price for renting an apartment\n",
    "- service fee: Fee of service\n",
    "- minimum nights: Number of minimum nights to rent an apartment\n",
    "- number of reviews: Number of reviews for an apartment\n",
    "- review rate number:  Review rate for an apartment (1 to 5)\n",
    "- calculated host listings count: Number of listings a host has\n",
    "- number rooms: Number of rooms in an apartment"
   ]
  },
  {
   "cell_type": "code",
   "execution_count": null,
   "id": "2146a915",
   "metadata": {
    "id": "ly3THPi7PdLJ"
   },
   "outputs": [],
   "source": [
    "# Your answer goes here\n"
   ]
  },
  {
   "cell_type": "markdown",
   "id": "1aac44c1",
   "metadata": {},
   "source": [
    "_Answer:_ \n"
   ]
  },
  {
   "cell_type": "markdown",
   "id": "QlBJgLSjh2l5",
   "metadata": {
    "id": "QlBJgLSjh2l5"
   },
   "source": [
    "### Univariate Analysis"
   ]
  },
  {
   "cell_type": "markdown",
   "id": "X0phX-tc_txX",
   "metadata": {
    "id": "X0phX-tc_txX"
   },
   "source": [
    "In the following, you want to analyze which features influence the price. You do this univariately, i.e., look at the relationship between one feature and the price individually. No matter which features you concluded to be useful in the last task, **you will consider the following seven features: service fee, minimum nights, neighborhood group, room type, cancellation policy, construction year, and the number of rooms.**"
   ]
  },
  {
   "cell_type": "markdown",
   "id": "ymD1OuKhE58B",
   "metadata": {
    "id": "ymD1OuKhE58B"
   },
   "source": [
    "First, we look closely at the relationship between price and service fee. To do so, create a joint plot for these two attributes. What is your finding? Is this a helpful feature for our pricing decision?"
   ]
  },
  {
   "cell_type": "code",
   "execution_count": null,
   "id": "7d5c1da7",
   "metadata": {
    "id": "ly3THPi7PdLJ"
   },
   "outputs": [],
   "source": [
    "# Your answer goes here\n"
   ]
  },
  {
   "cell_type": "markdown",
   "id": "d7262980",
   "metadata": {},
   "source": [
    "_Answer:_\n",
    "\n"
   ]
  },
  {
   "cell_type": "markdown",
   "id": "2rcPfXMcGk1M",
   "metadata": {
    "id": "2rcPfXMcGk1M"
   },
   "source": [
    "Next, we are interested in the relationship between the number of minimum nights and the price. To analyze it, create a joint plot with a regression. Describe your observation."
   ]
  },
  {
   "cell_type": "code",
   "execution_count": null,
   "id": "b028e83e",
   "metadata": {
    "id": "ly3THPi7PdLJ"
   },
   "outputs": [],
   "source": [
    "# Your answer goes here\n"
   ]
  },
  {
   "cell_type": "markdown",
   "id": "f4cd05bf",
   "metadata": {},
   "source": [
    "_Answer:_\n",
    "\n"
   ]
  },
  {
   "cell_type": "markdown",
   "id": "6MIVIHji_tG1",
   "metadata": {
    "id": "6MIVIHji_tG1"
   },
   "source": [
    "To further investigate the pricing decision, you look at the remaining five features: neighborhood group, room type, cancellation policy, construction year, and the number of rooms.\n",
    "To get an overview, you decide to create box plots (including the mean) for each of these features to visualize their influence on the price. Describe your findings. Which values of the features influence the price?"
   ]
  },
  {
   "cell_type": "code",
   "execution_count": null,
   "id": "301f080d",
   "metadata": {
    "id": "ly3THPi7PdLJ"
   },
   "outputs": [],
   "source": [
    "# Your answer goes here\n"
   ]
  },
  {
   "cell_type": "markdown",
   "id": "16206993",
   "metadata": {},
   "source": [
    "_Answer:_\n",
    "\n"
   ]
  },
  {
   "cell_type": "markdown",
   "id": "1Bs51U6ch9Ka",
   "metadata": {
    "id": "1Bs51U6ch9Ka"
   },
   "source": [
    "### Multivariate Analysis"
   ]
  },
  {
   "cell_type": "markdown",
   "id": "LZJDkd6xiJuy",
   "metadata": {
    "id": "LZJDkd6xiJuy"
   },
   "source": [
    "As the univariate analysis of price relationships provided only limited insights, you decide to visualize some multivariate investigations of the price. **No matter what you concluded in the last section, you will use the features construction year, number of rooms, cancellation policy, room type, and neighborhood group in the multivariate analysis.**\n",
    "For each pair of features, create a grouped boxplot (using the hue argument) and investigate whether the two features together allow for an explanation of price differences. In the end, conclude which combination of features should be used to make your pricing decision."
   ]
  },
  {
   "cell_type": "markdown",
   "id": "a1af70ad",
   "metadata": {},
   "source": [
    "#### Multivariate Analysis for Neighborhood Group"
   ]
  },
  {
   "cell_type": "code",
   "execution_count": null,
   "id": "19b4a749",
   "metadata": {
    "id": "ly3THPi7PdLJ"
   },
   "outputs": [],
   "source": [
    "# Your answer goes here\n"
   ]
  },
  {
   "cell_type": "markdown",
   "id": "e8b80c4f",
   "metadata": {},
   "source": [
    "_Answer:_\n",
    "\n"
   ]
  },
  {
   "cell_type": "markdown",
   "id": "ddbbd25d",
   "metadata": {},
   "source": [
    "#### Multivariate Analysis for Room Type"
   ]
  },
  {
   "cell_type": "code",
   "execution_count": null,
   "id": "809668e7",
   "metadata": {},
   "outputs": [],
   "source": [
    "# Your answer goes here\n"
   ]
  },
  {
   "cell_type": "markdown",
   "id": "72041142",
   "metadata": {},
   "source": [
    "_Answer:_\n"
   ]
  },
  {
   "cell_type": "markdown",
   "id": "e11db5c3",
   "metadata": {},
   "source": [
    "#### Multivariate Analysis for Number of Rooms"
   ]
  },
  {
   "cell_type": "code",
   "execution_count": null,
   "id": "512f825d",
   "metadata": {},
   "outputs": [],
   "source": [
    "# Your answer goes here\n"
   ]
  },
  {
   "cell_type": "markdown",
   "id": "5c95f5b1",
   "metadata": {},
   "source": [
    "_Answer:_\n",
    "\n"
   ]
  },
  {
   "cell_type": "markdown",
   "id": "419042f2",
   "metadata": {},
   "source": [
    "#### Multivariate Analysis for Construction Year"
   ]
  },
  {
   "cell_type": "code",
   "execution_count": null,
   "id": "43469f1b",
   "metadata": {},
   "outputs": [],
   "source": [
    "# Your answer goes here"
   ]
  },
  {
   "cell_type": "markdown",
   "id": "e77ae423",
   "metadata": {},
   "source": [
    "_Answer:_\n",
    "\n"
   ]
  },
  {
   "cell_type": "markdown",
   "id": "2kZI5CkIbahY",
   "metadata": {
    "id": "2kZI5CkIbahY"
   },
   "source": [
    "### Selection of Variables"
   ]
  },
  {
   "cell_type": "markdown",
   "id": "UUkY4fg4emGQ",
   "metadata": {
    "id": "UUkY4fg4emGQ"
   },
   "source": [
    "Please argue: Which combinations of variables would you consider for pricing your AirBnB?"
   ]
  },
  {
   "cell_type": "markdown",
   "id": "e5808a47-1108-43c8-b371-aeb1f893e511",
   "metadata": {},
   "source": [
    "_Answer:_\n"
   ]
  },
  {
   "cell_type": "markdown",
   "id": "9fb5625b-7666-447e-848b-6a7d239a6d0b",
   "metadata": {
    "id": "9fb5625b-7666-447e-848b-6a7d239a6d0b",
    "tags": []
   },
   "source": [
    "## Question 2: Setting the Price"
   ]
  },
  {
   "cell_type": "markdown",
   "id": "UVRItjgwQSNb",
   "metadata": {
    "id": "UVRItjgwQSNb"
   },
   "source": [
    "No matter what you have deducted from your analysis, from now on, you will continue only with three features: **The number of rooms, the neighborhood group, and the room type.**"
   ]
  },
  {
   "cell_type": "markdown",
   "id": "c7128fc0-c9cc-4ecb-bc37-147ea4bfbf07",
   "metadata": {
    "id": "c7128fc0-c9cc-4ecb-bc37-147ea4bfbf07"
   },
   "source": [
    "**Enter Toby**: Toby is your long-term friend back from studying at RWTH. While you studied computer science, Toby studied business administration to become a big shot at Wall Street. He currently works in the back office of some swiss credit institute just across the corner from your office. You decide to drop by and get some of his input for your pricing decision. \n",
    "\n",
    "Toby proposes to first use comparables pricing to price your apartment. Comparables pricing is an established concept in economics and means that you price your apartment close to similar apartments. \n",
    "You will use different techniques to find similar apartments and set a price."
   ]
  },
  {
   "cell_type": "markdown",
   "id": "b139f2fd-5b7e-4086-8a1f-6098df4f6d25",
   "metadata": {
    "id": "b139f2fd-5b7e-4086-8a1f-6098df4f6d25"
   },
   "source": [
    "## Baseline"
   ]
  },
  {
   "cell_type": "markdown",
   "id": "tD6hGWmni8eA",
   "metadata": {
    "id": "tD6hGWmni8eA"
   },
   "source": [
    "First, you want to set a baseline to compare against. The baseline should always use the average price of all apartments as a recommended price. Evaluate on a test set of 5%. The same test set should also be used later (you can use the random_state argument in scikit learn's train_test_split, but you need to stay consistent for different questions)."
   ]
  },
  {
   "cell_type": "code",
   "execution_count": null,
   "id": "119dd20f",
   "metadata": {
    "id": "ly3THPi7PdLJ"
   },
   "outputs": [],
   "source": [
    "# Your answer goes here\n"
   ]
  },
  {
   "cell_type": "markdown",
   "id": "ddc1e5ce",
   "metadata": {
    "id": "ddc1e5ce"
   },
   "source": [
    "## Decision Tree"
   ]
  },
  {
   "cell_type": "markdown",
   "id": "8y3FUe5paWrY",
   "metadata": {
    "id": "8y3FUe5paWrY"
   },
   "source": [
    "Using a decision tree, you try to price your apartment according to similar apartments. "
   ]
  },
  {
   "cell_type": "markdown",
   "id": "0a06ecc8",
   "metadata": {
    "id": "0a06ecc8"
   },
   "source": [
    "In the following, we want to know the price ranges for renting AirBnBs. To use decision trees, you need to discretize prices. We use the following price bins:\n",
    "\n",
    "\n",
    "- [50, 200]\n",
    "- (200, 400]\n",
    "- (400, 600]\n",
    "- (600, 800]\n",
    "- (800, 1000]\n",
    "- (1000, 1200]\n",
    "\n",
    "We add the attribute \"Price_Bins\" using the discretization mentioned above for each apartment. For example, if an apartment costs 404, it is put into the bin (400, 600]."
   ]
  },
  {
   "cell_type": "code",
   "execution_count": null,
   "id": "f13ec0f0",
   "metadata": {
    "id": "ly3THPi7PdLJ"
   },
   "outputs": [],
   "source": [
    "# Your answer goes here\n"
   ]
  },
  {
   "cell_type": "markdown",
   "id": "9a15a3f0",
   "metadata": {
    "id": "9a15a3f0"
   },
   "source": [
    "Consider the extended dataset from the previous task. Use 'number rooms,' 'room type,' and 'neighborhood group' as descriptive features and \"Price_Bins\" as the target feature. Create a test and training set like before."
   ]
  },
  {
   "cell_type": "code",
   "execution_count": null,
   "id": "dc234682",
   "metadata": {
    "id": "ly3THPi7PdLJ"
   },
   "outputs": [],
   "source": [
    "# Your answer goes here\n"
   ]
  },
  {
   "cell_type": "markdown",
   "id": "WJuVU61pfuAU",
   "metadata": {
    "id": "WJuVU61pfuAU"
   },
   "source": [
    "Generate a decision tree in which the minimum number of samples for splitting is ten and use entropy. What is the system's entropy?\n",
    "\n",
    "Note: For this task, you must use the p_decision_tree library."
   ]
  },
  {
   "cell_type": "code",
   "execution_count": null,
   "id": "6a779d60",
   "metadata": {
    "id": "ly3THPi7PdLJ"
   },
   "outputs": [],
   "source": [
    "# Your answer goes here\n"
   ]
  },
  {
   "cell_type": "markdown",
   "id": "ddc5527b",
   "metadata": {
    "id": "ddc5527b"
   },
   "source": [
    "What is the first feature the decision tree splits on?"
   ]
  },
  {
   "cell_type": "markdown",
   "id": "dedb90c3",
   "metadata": {
    "id": "dedb90c3"
   },
   "source": [
    "_Answer:_\n",
    "\n"
   ]
  },
  {
   "cell_type": "markdown",
   "id": "604f3229",
   "metadata": {
    "id": "604f3229"
   },
   "source": [
    "Since it doesn't make sense to set a price range for renting a room, we need to fix a price. For simplicity, we use the means of the bins, i.e., 125, 300, 500, 700, 900, and 1100. For example, if a room were categorized in the bin (200, 400], it would have the price of 300.\n",
    "\n",
    "What prices are possible given your decision tree for:\n",
    "\n",
    "- Manhattan, 1-room, Private room\n",
    "- Staten Island, 1-room, Shared room"
   ]
  },
  {
   "cell_type": "markdown",
   "id": "75fc9049",
   "metadata": {
    "id": "dedb90c3"
   },
   "source": [
    "_Answer:_\n",
    "\n"
   ]
  },
  {
   "cell_type": "markdown",
   "id": "gXRYGEa5QwCC",
   "metadata": {
    "id": "gXRYGEa5QwCC"
   },
   "source": [
    "What is the proposed price of the decision tree for our apartment? Store it in a variable for later usage."
   ]
  },
  {
   "cell_type": "code",
   "execution_count": null,
   "id": "e2a17248",
   "metadata": {
    "id": "ly3THPi7PdLJ"
   },
   "outputs": [],
   "source": [
    "# Your answer goes here\n"
   ]
  },
  {
   "cell_type": "markdown",
   "id": "d7b71ded",
   "metadata": {
    "id": "d7b71ded"
   },
   "source": [
    "To evaluate how good our decision tree is for determining price categories, we want to measure the error of the predictions on the test set. To do so, the IDS team provided you helper functions below."
   ]
  },
  {
   "cell_type": "code",
   "execution_count": null,
   "id": "ywjosLTaa8sY",
   "metadata": {
    "id": "ywjosLTaa8sY"
   },
   "outputs": [],
   "source": [
    "def get_name_value_dict(graph):\n",
    "    id_label_dict = {}\n",
    "    root = decisionTree.root\n",
    "    visited = set() # Set to keep track of visited nodes of graph.\n",
    "\n",
    "    def dfs(visited, graph, node):#function for dfs \n",
    "        id_label_dict[node.name] = node.value\n",
    "        if node not in visited:\n",
    "            if node.next:\n",
    "                id_label_dict[node.next.name] = node.next.value\n",
    "            visited.add(node)\n",
    "            if node.childs:\n",
    "                for child in node.childs:\n",
    "                    if child is not None:\n",
    "                        dfs(visited, graph, child)\n",
    "            elif node.next:\n",
    "                if node.next.childs:\n",
    "                    for child in node.next.childs:\n",
    "                        if child is not None:\n",
    "                            dfs(visited, graph, child)\n",
    "    dfs(visited, decisionTree, root)\n",
    "    return id_label_dict\n",
    "\n",
    "def get_predictor(tree):\n",
    "  id_label_dict = get_name_value_dict(tree)\n",
    "  dotplus = pydotplus.graph_from_dot_data(tree.source)\n",
    "  G = networkx.nx_pydot.from_pydot(dotplus)\n",
    "  root = [n for n,d in G.in_degree() if d==0][0]\n",
    "  paths = []\n",
    "  for node in G:\n",
    "      if G.out_degree(node)==0: #it's a leaf\n",
    "          paths.append(networkx.shortest_path(G, root, node))\n",
    "  new_paths = []\n",
    "  for path in paths:\n",
    "      for name, value in id_label_dict.items():\n",
    "          path = ([p.replace(name, value) for p in path])\n",
    "      new_paths.append(path)\n",
    "  predictor = {}\n",
    "  for path in new_paths.copy():\n",
    "    target = path[-1]\n",
    "    classification = tuple(path[:-1])\n",
    "    predictor[classification] = target\n",
    "  return predictor\n",
    "\n",
    "def get_prediction_features(predictor):\n",
    "    features = set()\n",
    "    for key in predictor:\n",
    "        i = 0\n",
    "        while i <= len(key)-2:\n",
    "            features.add(key[i])\n",
    "            i +=2\n",
    "    return features\n",
    "            \n",
    "def get_predicted_bin(instance, features, predictor):\n",
    "  feature_values = {}\n",
    "  for feature in features:\n",
    "      feature_values[feature] = instance[feature]\n",
    "  possible_paths = predictor.keys()\n",
    "  i=0\n",
    "  while i<=len(feature_values):\n",
    "    attribute = [path[i] for path in possible_paths][0]\n",
    "    if attribute in predictor.values():\n",
    "      break\n",
    "    feature_value = feature_values[attribute]\n",
    "    candidates = []\n",
    "    for el in possible_paths:\n",
    "      if str(el[i+1]) == str(feature_value):\n",
    "        candidates.append(el)\n",
    "    possible_paths = candidates.copy()\n",
    "    i+=2\n",
    "  return predictor[possible_paths[0]]\n",
    "\n",
    "\n",
    "\n",
    "### Dot is your visual decision tree. Adjust the naming if needed\n",
    "predictor = get_predictor(dot)\n",
    "features = get_prediction_features(predictor)"
   ]
  },
  {
   "cell_type": "markdown",
   "id": "05b8fad0",
   "metadata": {},
   "source": [
    "To predict the price bin for each instance of your test set, apply the function get_predicted_bin using the variables *predictor* and *features* provided above."
   ]
  },
  {
   "cell_type": "code",
   "execution_count": null,
   "id": "04a9c317",
   "metadata": {},
   "outputs": [],
   "source": [
    "# Your answer goes here\n"
   ]
  },
  {
   "cell_type": "markdown",
   "id": "tErBbNh62NdR",
   "metadata": {
    "id": "tErBbNh62NdR"
   },
   "source": [
    "You predicted a price range for AirBnBs in your test set. However, since you cannot enter a price range for renting an apartment, we have to map the range of bins to one value. To do so, we use the mean of bins, as explained before, to predict the price. Given that, compute the mean absolute error between the prediction from the decision tree and the real price provided in the dataset. What is the mean absolute error?"
   ]
  },
  {
   "cell_type": "code",
   "execution_count": null,
   "id": "4e4a988f",
   "metadata": {
    "id": "ly3THPi7PdLJ"
   },
   "outputs": [],
   "source": [
    "# Your answer goes here\n"
   ]
  },
  {
   "cell_type": "markdown",
   "id": "4e0d4040-8285-41d8-9da7-547127f999ce",
   "metadata": {
    "id": "4e0d4040-8285-41d8-9da7-547127f999ce"
   },
   "source": [
    "## Clustering"
   ]
  },
  {
   "cell_type": "markdown",
   "id": "8bae6185",
   "metadata": {
    "id": "8bae6185"
   },
   "source": [
    "Another way to do comparables pricing is to find similar apartments using clustering. Each calculated cluster represents one or more similar apartments in the dataset. For each cluster, you calculate the mean price as a representative price. To predict the price for new apartments, you assign them to an existing cluster and give the mean price as prediction.\n",
    "\n",
    "Use the same features you used in the decision tree for the clustering as well (**number rooms, neighborhood group, room type**), and remember that your dataset is still split into a training and test set.\n",
    "\n",
    "In this task, you will use the k-means algorithm.\n",
    "*Note: To keep results comparable, please use 100 for random state and n_init when initializing the clustering algorithm. Also, remember to use the same test and training set as in the previous tasks to compare performances.*"
   ]
  },
  {
   "cell_type": "markdown",
   "id": "bHmkuRpS-pjY",
   "metadata": {
    "id": "bHmkuRpS-pjY"
   },
   "source": [
    "### Encoding "
   ]
  },
  {
   "cell_type": "markdown",
   "id": "TjuIWkKM1ylm",
   "metadata": {
    "id": "TjuIWkKM1ylm"
   },
   "source": [
    "K-means tries to calculate the distance between different data points. Since some of the features you want to use are not numeric, apply one-hot encoding to be able to use distance measures. Use the preprocessing module of sklearn to prepare your dataset for clustering."
   ]
  },
  {
   "cell_type": "code",
   "execution_count": null,
   "id": "b6285240",
   "metadata": {
    "id": "ly3THPi7PdLJ"
   },
   "outputs": [],
   "source": [
    "# Your answer goes here\n"
   ]
  },
  {
   "cell_type": "markdown",
   "id": "LYtN1tb8-0Yf",
   "metadata": {
    "id": "LYtN1tb8-0Yf"
   },
   "source": [
    "### Choosing number of clusters"
   ]
  },
  {
   "cell_type": "markdown",
   "id": "a58f00cf",
   "metadata": {
    "id": "a58f00cf"
   },
   "source": [
    "In k-means, the number of wanted clusters is a parameter one can decide on. Since this is information you do not have at this time, you choose to use the data to decide.\n",
    "\n",
    "You cluster on the training dataset by using `k` number of clusters where `k` is between 4 and 15. Since you are interested in the price, for each clustering, you calculate the **standard deviation of the mean prices for the clusters**. Therefore, for each clustering:\n",
    "1. Calculate the mean price for each of the resulting clusters.\n",
    "2. Calculate the standard deviation of the mean prices calculated in 1.\n",
    "\n",
    "Plot a diagram where on the `x-axis` you will have the *number of clusters used* and on the `y-axis` the *standard deviation of the means*.\n",
    "\n",
    "In your opinion, which amount of clusters makes more sense? Explain your answer."
   ]
  },
  {
   "cell_type": "code",
   "execution_count": null,
   "id": "cf32d53e",
   "metadata": {
    "id": "ly3THPi7PdLJ"
   },
   "outputs": [],
   "source": [
    "# Your answer goes here\n"
   ]
  },
  {
   "cell_type": "markdown",
   "id": "79a62a5b",
   "metadata": {},
   "source": [
    "_Answer:_\n",
    "\n"
   ]
  },
  {
   "cell_type": "markdown",
   "id": "8047129d",
   "metadata": {
    "id": "8047129d"
   },
   "source": [
    "**Note:** No matter the conclusion made in the previous task, from now on, you use the clustering model with **9 clusters** for predicting the price for your apartment and evaluating the clustering technique."
   ]
  },
  {
   "cell_type": "markdown",
   "id": "cd39a5ea",
   "metadata": {},
   "source": [
    "### Pricing your apartment\n",
    "\n",
    "To predict the price for your apartment, calculate in which cluster your apartment would be and use the mean value of the cluster as a possible price."
   ]
  },
  {
   "cell_type": "code",
   "execution_count": null,
   "id": "50a772aa",
   "metadata": {
    "id": "ly3THPi7PdLJ"
   },
   "outputs": [],
   "source": [
    "# Your answer goes here\n",
    "# cluster for 9 clusters\n"
   ]
  },
  {
   "cell_type": "markdown",
   "id": "_MyMuKLPVihY",
   "metadata": {
    "id": "_MyMuKLPVihY"
   },
   "source": [
    "### Evaluating clustering\n",
    "\n",
    "You want to evaluate how well your clustering worked. In your case, two things can be evaluated:\n",
    "\n",
    "1.   Whether the clustering technique can group similar apartments together\n",
    "2.   Whether other people determine the price of their apartment as you did, meaning whether similar apartments get a similar price"
   ]
  },
  {
   "cell_type": "markdown",
   "id": "O3VJSoR9VseI",
   "metadata": {
    "id": "O3VJSoR9VseI"
   },
   "source": [
    "You are going to evaluate the clustering technique visually. The IDS team provides you with the following fancy code that reduces your input to two dimensions."
   ]
  },
  {
   "cell_type": "code",
   "execution_count": null,
   "id": "IaMFg-ogVvpZ",
   "metadata": {
    "colab": {
     "base_uri": "https://localhost:8080/"
    },
    "id": "IaMFg-ogVvpZ",
    "outputId": "36e6a0f2-75fb-4331-8337-c3c9fa893e02"
   },
   "outputs": [],
   "source": [
    "import umap.umap_ as umap\n",
    "\n",
    "#Preprocessing numerical\n",
    "full_data = x_train # use the train dataset here\n",
    "numerical = full_data.select_dtypes(exclude='object')\n",
    "\n",
    "for c in numerical.columns:\n",
    "    pt = sklearn.preprocessing.PowerTransformer()\n",
    "    numerical.loc[:, c] = pt.fit_transform(np.array(numerical[c]).reshape(-1, 1))\n",
    "    \n",
    "##preprocessing categorical\n",
    "categorical = full_data.select_dtypes(include='object')\n",
    "categorical = pd.get_dummies(categorical)\n",
    "\n",
    "#Percentage of columns which are categorical is used as weight parameter in embeddings later\n",
    "categorical_weight = len(full_data.select_dtypes(include='object').columns) / full_data.shape[1]\n",
    "\n",
    "#Embedding numerical & categorical\n",
    "fit1 = umap.UMAP(metric='l2').fit(numerical)\n",
    "fit2 = umap.UMAP(metric='dice').fit(categorical)\n",
    "\n",
    "#Augmenting the numerical embedding with categorical\n",
    "intersection = umap.general_simplicial_set_intersection(fit1.graph_, fit2.graph_, weight=categorical_weight)\n",
    "intersection = umap.reset_local_connectivity(intersection)\n",
    "embedding = umap.simplicial_set_embedding(fit1._raw_data, intersection, fit1.n_components,\n",
    "                                                fit1._initial_alpha, fit1._a, fit1._b,\n",
    "                                                fit1.repulsion_strength, fit1.negative_sample_rate,\n",
    "                                                200, 'random', np.random, fit1.metric,\n",
    "                                                fit1._metric_kwds, False, {}, False)\n",
    "\n",
    "# Extracting the resulting dimensions\n",
    "dimension1 = embedding[0].T[0]\n",
    "dimension2 = embedding[0].T[1]"
   ]
  },
  {
   "cell_type": "markdown",
   "id": "1ea842d4",
   "metadata": {},
   "source": [
    "Create a scatter plot from the two dimensions and use the cluster labels for coloring the data points. Use the train set for the visualization. Discuss the result."
   ]
  },
  {
   "cell_type": "code",
   "execution_count": null,
   "id": "f319f3d2",
   "metadata": {
    "id": "ly3THPi7PdLJ"
   },
   "outputs": [],
   "source": [
    "# Your answer goes here\n"
   ]
  },
  {
   "cell_type": "markdown",
   "id": "1c822564",
   "metadata": {},
   "source": [
    "_Answer:_\n",
    "\n"
   ]
  },
  {
   "cell_type": "markdown",
   "id": "EFNtFLuyV7yQ",
   "metadata": {
    "id": "EFNtFLuyV7yQ"
   },
   "source": [
    "We next evaluate whether similar apartments (considering the attributes we chose) get similar prices. To do this, we use our test set. Assign each apartment of the test set to the nearest centroid. Predict the price of the apartments in the test set by taking the mean price of the cluster they was assigned to. Calculate the mean absolute error between the predicted and real prices."
   ]
  },
  {
   "cell_type": "code",
   "execution_count": null,
   "id": "cf6ae627",
   "metadata": {
    "id": "ly3THPi7PdLJ"
   },
   "outputs": [],
   "source": [
    "# Your answer goes here\n"
   ]
  },
  {
   "cell_type": "markdown",
   "id": "qxrtlduTBkRQ",
   "metadata": {
    "id": "qxrtlduTBkRQ"
   },
   "source": [
    "### Final comments on the price prediction\n",
    "\n",
    "Please compare the three approaches used for determining the price. Do they provide a good way of determining the price?"
   ]
  },
  {
   "cell_type": "markdown",
   "id": "93dedc80",
   "metadata": {},
   "source": [
    "_Answer:_\n",
    "\n"
   ]
  },
  {
   "cell_type": "markdown",
   "id": "a6797ffe-8983-42d2-891d-7df7d8f9fc85",
   "metadata": {
    "id": "a6797ffe-8983-42d2-891d-7df7d8f9fc85"
   },
   "source": [
    "## Question 3: Investigating Price Elasticity"
   ]
  },
  {
   "cell_type": "markdown",
   "id": "88ca941f-cdf0-45fa-b930-b55a21c71e86",
   "metadata": {
    "id": "88ca941f-cdf0-45fa-b930-b55a21c71e86"
   },
   "source": [
    "You show your results to Toby, excited about the price suggestions you got from the decision tree and clustering. You decide to take the higher price, which naturally means more income.\n",
    "\n",
    "However, he points you to one central flaw in your thinking: The number of bookings is not independent of the price. Therefore, you can not just take any price and assume that this will lead to more income than a lower price, as the demand (utilization) for your apartment might decrease. This is called **price elasticity**.\n",
    "\n",
    "You want to verify what Toby has been telling you. You extracted the utilization column of your dataset by grabbing the available data from AirBnB's calendar (smart!). The utilization values are contained in dataset **AirBnB_utilization.csv**. **Show several graphs investigating price elasticity.** For example, you might plot the utilization in relation to the price and color according to different variable values. \n",
    "After you have verified Toby's statements, you want to learn price elasticity from the dataset (the utilization of an apartment given the price, the number of rooms, the room type, and the neighborhood group, i.e., the same features as before). With the learned price elasticity, you want to evaluate which of the proposed prices (decision tree or clustering) is the better choice."
   ]
  },
  {
   "cell_type": "code",
   "execution_count": null,
   "id": "14e26b23",
   "metadata": {
    "id": "ly3THPi7PdLJ"
   },
   "outputs": [],
   "source": [
    "# Your answer goes here\n"
   ]
  },
  {
   "cell_type": "markdown",
   "id": "3014ad7a-a391-4485-9395-b69c3f081ee8",
   "metadata": {
    "id": "3014ad7a-a391-4485-9395-b69c3f081ee8"
   },
   "source": [
    "You will investigate the relationship between price and utilization in this subtask. First, you will train different models and choose the one that best predicts utilization for an apartment. Second, you will evaluate which of the proposed prices of decision tree and clustering prices were better, assuming that your model provides the correct utilization. Third, you will conclude your investigation and provide a pricing decision."
   ]
  },
  {
   "cell_type": "markdown",
   "id": "dc64c4de-fa5c-41fe-8bbe-3bb3c9008534",
   "metadata": {
    "id": "dc64c4de-fa5c-41fe-8bbe-3bb3c9008534"
   },
   "source": [
    "### Learning price elasticity\n",
    "You want to use different supervised learning techniques to learn price elasticity. You decide on linear regression, SVM, and multilayer perceptrons. However, you have to preprocess the data. Use the features of the neighborhood group, the room type, the number of rooms, and the price to predict the utilization. Split into training and testing data (test size 5%)."
   ]
  },
  {
   "cell_type": "markdown",
   "id": "UjOJNxt_UrQr",
   "metadata": {
    "id": "UjOJNxt_UrQr"
   },
   "source": [
    "Prepare the data set by splitting, one-hot encoding, and normalizing."
   ]
  },
  {
   "cell_type": "code",
   "execution_count": null,
   "id": "7522c215",
   "metadata": {
    "id": "ly3THPi7PdLJ"
   },
   "outputs": [],
   "source": [
    "# Your answer goes here\n"
   ]
  },
  {
   "cell_type": "markdown",
   "id": "JEKOoD10VF9y",
   "metadata": {
    "id": "JEKOoD10VF9y"
   },
   "source": [
    "For each technique, use 5-cross-fold validation and assess the performance on the test set. "
   ]
  },
  {
   "cell_type": "markdown",
   "id": "c24bef91-6a16-4b09-a0e7-3069a687ed07",
   "metadata": {
    "id": "c24bef91-6a16-4b09-a0e7-3069a687ed07"
   },
   "source": [
    "#### Regression"
   ]
  },
  {
   "cell_type": "markdown",
   "id": "jK-Rpzm2kBEu",
   "metadata": {
    "id": "jK-Rpzm2kBEu"
   },
   "source": [
    "Learn a linear regression to predict the utilization of an AirBnB."
   ]
  },
  {
   "cell_type": "code",
   "execution_count": null,
   "id": "37d648e1",
   "metadata": {
    "id": "ly3THPi7PdLJ"
   },
   "outputs": [],
   "source": [
    "# Your answer goes here\n"
   ]
  },
  {
   "cell_type": "markdown",
   "id": "KXaCxzVRkQT9",
   "metadata": {
    "id": "KXaCxzVRkQT9"
   },
   "source": [
    "What is the mean absolute error achieved on the test data?"
   ]
  },
  {
   "cell_type": "code",
   "execution_count": null,
   "id": "f11f7bf2",
   "metadata": {
    "id": "ly3THPi7PdLJ"
   },
   "outputs": [],
   "source": [
    "# Your answer goes here\n"
   ]
  },
  {
   "cell_type": "markdown",
   "id": "Qod_TrT-kW8H",
   "metadata": {
    "id": "Qod_TrT-kW8H"
   },
   "source": [
    "Show (draw!) the price elasticity for your apartment. "
   ]
  },
  {
   "cell_type": "code",
   "execution_count": null,
   "id": "5ee85945",
   "metadata": {
    "id": "ly3THPi7PdLJ"
   },
   "outputs": [],
   "source": [
    "# Your answer goes here\n"
   ]
  },
  {
   "cell_type": "markdown",
   "id": "ae77f7d2-4752-49f8-b5e8-5bffda6e64d2",
   "metadata": {
    "id": "ae77f7d2-4752-49f8-b5e8-5bffda6e64d2"
   },
   "source": [
    "#### Linear SVR"
   ]
  },
  {
   "cell_type": "markdown",
   "id": "s0NzpYCzs8y9",
   "metadata": {
    "id": "s0NzpYCzs8y9"
   },
   "source": [
    "Train and evaluate a Linear SVR (Support Vector Regression) model."
   ]
  },
  {
   "cell_type": "code",
   "execution_count": null,
   "id": "385ccf8e",
   "metadata": {
    "id": "ly3THPi7PdLJ"
   },
   "outputs": [],
   "source": [
    "# Your answer goes here\n"
   ]
  },
  {
   "cell_type": "markdown",
   "id": "YCccX3ZOdiiQ",
   "metadata": {
    "id": "YCccX3ZOdiiQ"
   },
   "source": [
    "What is the mean absolute error achieved on the test data?"
   ]
  },
  {
   "cell_type": "code",
   "execution_count": null,
   "id": "2bbfe034",
   "metadata": {
    "id": "ly3THPi7PdLJ"
   },
   "outputs": [],
   "source": [
    "# Your answer goes here\n"
   ]
  },
  {
   "cell_type": "markdown",
   "id": "akKwnMMgdrQX",
   "metadata": {
    "id": "akKwnMMgdrQX"
   },
   "source": [
    "Show (draw!) the price elasticity for your apartment. "
   ]
  },
  {
   "cell_type": "code",
   "execution_count": null,
   "id": "48c2acb0",
   "metadata": {
    "id": "ly3THPi7PdLJ"
   },
   "outputs": [],
   "source": [
    "# Your answer goes here\n"
   ]
  },
  {
   "cell_type": "markdown",
   "id": "d9737709-05dc-43e3-ad50-34d0bd89606c",
   "metadata": {},
   "source": [
    "#### Learning Non-Linear Relationships"
   ]
  },
  {
   "cell_type": "markdown",
   "id": "c50c7b78-3bf4-40cd-a8ca-1b6ca399df9f",
   "metadata": {},
   "source": [
    "You realize that learning linear relationships only provides limited performance. You want to learn non-linear relationships. First, you will learn non-linear relationships using linear regression and kernels. Second, you will use non-linear kernels in the Support Vector Regression. Third, you will use neural networks."
   ]
  },
  {
   "cell_type": "markdown",
   "id": "3f6422fa-115f-441e-a3bc-abdea38f4b25",
   "metadata": {},
   "source": [
    "#### Kernels in Regression"
   ]
  },
  {
   "cell_type": "markdown",
   "id": "e016dd91-0b6d-47d6-bf86-7485b3cd623c",
   "metadata": {},
   "source": [
    "Use a transformation of the price and a regression to incorporate non-linear relationships, as learned in the lecture. You can try different kernel functions, but at least you should use one quadratic kernel."
   ]
  },
  {
   "cell_type": "code",
   "execution_count": null,
   "id": "02440e18-d727-4fb2-a8e5-aa3d0b79d58d",
   "metadata": {},
   "outputs": [],
   "source": [
    "# Your answer goes here\n"
   ]
  },
  {
   "cell_type": "markdown",
   "id": "2e28b4fb-b9f2-4408-983a-1053034003bc",
   "metadata": {},
   "source": [
    "What is the mean absolute error achieved on the test data?"
   ]
  },
  {
   "cell_type": "code",
   "execution_count": null,
   "id": "f0e3ca24-6c5e-40c2-ad2d-e9d09670f573",
   "metadata": {},
   "outputs": [],
   "source": [
    "# Your answer goes here\n"
   ]
  },
  {
   "cell_type": "markdown",
   "id": "dca155df-d2e2-4d0e-b8d0-db8e780828aa",
   "metadata": {},
   "source": [
    "Show (draw!) the price elasticity for your apartment. "
   ]
  },
  {
   "cell_type": "code",
   "execution_count": null,
   "id": "d462859b-ae69-4799-bbb3-42ba65609b90",
   "metadata": {},
   "outputs": [],
   "source": [
    "# Your answer goes here\n"
   ]
  },
  {
   "cell_type": "markdown",
   "id": "39ad54ac-0056-4204-bae4-f4098e5f1175",
   "metadata": {
    "id": "ae77f7d2-4752-49f8-b5e8-5bffda6e64d2"
   },
   "source": [
    "#### Kernels in SVR"
   ]
  },
  {
   "cell_type": "markdown",
   "id": "61e205a3-ed09-4dfd-9d38-95cf7ef048e5",
   "metadata": {
    "id": "s0NzpYCzs8y9"
   },
   "source": [
    "Train and evaluate an SVR (Support Vector Regression) model with different, non-linear kernels. You can limit the size of your training set to 25000 samples to make the problem feasible in computation time."
   ]
  },
  {
   "cell_type": "code",
   "execution_count": null,
   "id": "8fc03286-feeb-413e-8389-fede8fe8d11a",
   "metadata": {
    "id": "ly3THPi7PdLJ"
   },
   "outputs": [],
   "source": [
    "# Your answer goes here\n"
   ]
  },
  {
   "cell_type": "markdown",
   "id": "53fb862b-97c2-42fa-9f44-f58cdbb95cba",
   "metadata": {
    "id": "YCccX3ZOdiiQ"
   },
   "source": [
    "What is the mean absolute error achieved on the test data?"
   ]
  },
  {
   "cell_type": "code",
   "execution_count": null,
   "id": "05343b84-1597-41b7-b7b6-4fa7bc5e7e82",
   "metadata": {
    "id": "ly3THPi7PdLJ"
   },
   "outputs": [],
   "source": [
    "# Your answer goes here\n"
   ]
  },
  {
   "cell_type": "markdown",
   "id": "3f9f3d21-40ab-4aa5-9b0b-e40e7fcc00e8",
   "metadata": {
    "id": "akKwnMMgdrQX"
   },
   "source": [
    "Show (draw!) the price elasticity for your apartment. "
   ]
  },
  {
   "cell_type": "code",
   "execution_count": null,
   "id": "42c2da55-efb6-410a-8c37-56bf4abaf043",
   "metadata": {
    "id": "ly3THPi7PdLJ"
   },
   "outputs": [],
   "source": [
    "# Your answer goes here\n"
   ]
  },
  {
   "cell_type": "markdown",
   "id": "d43359b3-a2a4-4cda-90a8-0f66b04aa3fb",
   "metadata": {},
   "source": [
    "What is your conclusion on using kernels?"
   ]
  },
  {
   "cell_type": "markdown",
   "id": "a01dafcb-ce55-453c-a158-a46ab8bbfd1e",
   "metadata": {},
   "source": [
    "_Answer:_\n",
    "\n"
   ]
  },
  {
   "cell_type": "markdown",
   "id": "39ea35b3-b236-429d-81cb-17fd6877aed4",
   "metadata": {
    "id": "39ea35b3-b236-429d-81cb-17fd6877aed4"
   },
   "source": [
    "#### Neural Network"
   ]
  },
  {
   "cell_type": "markdown",
   "id": "79IHOFdbkmN-",
   "metadata": {
    "id": "79IHOFdbkmN-"
   },
   "source": [
    "Learn a neural network (multilayer perceptron) to predict the utilization of an AirBnB."
   ]
  },
  {
   "cell_type": "code",
   "execution_count": null,
   "id": "d963fd7e",
   "metadata": {
    "id": "ly3THPi7PdLJ"
   },
   "outputs": [],
   "source": [
    "# Your answer goes here\n"
   ]
  },
  {
   "cell_type": "markdown",
   "id": "NEh_vR3gkyZG",
   "metadata": {
    "id": "NEh_vR3gkyZG"
   },
   "source": [
    "What is the mean absolute error achieved on the test data?"
   ]
  },
  {
   "cell_type": "code",
   "execution_count": null,
   "id": "3660d9c1",
   "metadata": {
    "id": "ly3THPi7PdLJ"
   },
   "outputs": [],
   "source": [
    "# Your answer goes here\n"
   ]
  },
  {
   "cell_type": "markdown",
   "id": "PUwlWri4kzze",
   "metadata": {
    "id": "PUwlWri4kzze"
   },
   "source": [
    "Show (draw!) the price elasticity for your apartment. "
   ]
  },
  {
   "cell_type": "code",
   "execution_count": null,
   "id": "9d42d222",
   "metadata": {
    "id": "ly3THPi7PdLJ"
   },
   "outputs": [],
   "source": [
    "# Your answer goes here\n"
   ]
  },
  {
   "cell_type": "markdown",
   "id": "7e9c469a-9ef3-45b5-a225-ff4109086d16",
   "metadata": {
    "id": "7e9c469a-9ef3-45b5-a225-ff4109086d16"
   },
   "source": [
    "### Profit discrepencies when incorporating price elasticity"
   ]
  },
  {
   "cell_type": "markdown",
   "id": "OmfvMMkWk-Dt",
   "metadata": {
    "id": "OmfvMMkWk-Dt"
   },
   "source": [
    "Use the model that best captures price elasticity on the testing set. You can assume that this model accurately captures price elasticity, i.e., is the ground truth. What is the better of the two proposed prices? Is the better price the optimal price?"
   ]
  },
  {
   "cell_type": "code",
   "execution_count": null,
   "id": "d0b855ae",
   "metadata": {
    "id": "ly3THPi7PdLJ"
   },
   "outputs": [],
   "source": [
    "# Your answer goes here\n"
   ]
  },
  {
   "cell_type": "markdown",
   "id": "4878657a",
   "metadata": {},
   "source": [
    "_Answer:_\n",
    "\n"
   ]
  },
  {
   "cell_type": "markdown",
   "id": "8827d79d-7f99-4e6c-af6c-9ba7ff7509bc",
   "metadata": {
    "id": "8827d79d-7f99-4e6c-af6c-9ba7ff7509bc"
   },
   "source": [
    "# Question 4: Conclusion"
   ]
  },
  {
   "cell_type": "markdown",
   "id": "38a971e0-7b6b-414f-a845-5379cd705838",
   "metadata": {
    "id": "38a971e0-7b6b-414f-a845-5379cd705838"
   },
   "source": [
    "Summarize your findings and discuss limitations."
   ]
  },
  {
   "cell_type": "markdown",
   "id": "d5c1c314",
   "metadata": {},
   "source": [
    "_Answer:_ \n",
    "\n"
   ]
  }
 ],
 "metadata": {
  "colab": {
   "collapsed_sections": [],
   "provenance": []
  },
  "kernelspec": {
   "display_name": "Python 3 (ipykernel)",
   "language": "python",
   "name": "python3"
  },
  "language_info": {
   "codemirror_mode": {
    "name": "ipython",
    "version": 3
   },
   "file_extension": ".py",
   "mimetype": "text/x-python",
   "name": "python",
   "nbconvert_exporter": "python",
   "pygments_lexer": "ipython3",
   "version": "3.9.7"
  }
 },
 "nbformat": 4,
 "nbformat_minor": 5
}
